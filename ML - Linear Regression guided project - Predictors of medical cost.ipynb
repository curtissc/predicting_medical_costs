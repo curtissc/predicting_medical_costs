{
 "cells": [
  {
   "cell_type": "markdown",
   "metadata": {},
   "source": [
    "# Predictors of Medical Cost\n",
    "\n",
    "For this project, we will be using this [medical cost personal data set](https://www.kaggle.com/datasets/mirichoi0218/insurance?resource=download) from Kaggle to inspect how different demographic and personal characteristics relate to total medical costs for individuals in the United States. The data set consists of individual medical insurance bills from individuals, with information about their age, sex, bmi, number of children, smoking status, and region of the US in which they live.\n",
    "\n"
   ]
  },
  {
   "cell_type": "code",
   "execution_count": 1,
   "metadata": {},
   "outputs": [],
   "source": [
    "import pandas as pd\n",
    "import numpy as np\n",
    "\n",
    "from sklearn.model_selection import train_test_split\n",
    "from sklearn.linear_model import LinearRegression\n",
    "from sklearn.metrics import mean_squared_error\n",
    "from sklearn.metrics import r2_score\n",
    "from sklearn.preprocessing import StandardScaler\n",
    "from scipy.stats import boxcox\n",
    "from scipy.special import inv_boxcox\n",
    "\n",
    "import matplotlib.pyplot as plt\n",
    "import matplotlib.style as style\n",
    "%matplotlib inline\n",
    "import seaborn as sns"
   ]
  },
  {
   "cell_type": "markdown",
   "metadata": {},
   "source": [
    "### Import and inspect data"
   ]
  },
  {
   "cell_type": "code",
   "execution_count": 2,
   "metadata": {},
   "outputs": [],
   "source": [
    "mc = pd.read_csv(\"../Datasets/insurance.csv\")"
   ]
  },
  {
   "cell_type": "code",
   "execution_count": 3,
   "metadata": {},
   "outputs": [
    {
     "name": "stdout",
     "output_type": "stream",
     "text": [
      "(1338, 7)\n",
      "None\n",
      "<class 'pandas.core.frame.DataFrame'>\n",
      "RangeIndex: 1338 entries, 0 to 1337\n",
      "Data columns (total 7 columns):\n",
      " #   Column    Non-Null Count  Dtype  \n",
      "---  ------    --------------  -----  \n",
      " 0   age       1338 non-null   int64  \n",
      " 1   sex       1338 non-null   object \n",
      " 2   bmi       1338 non-null   float64\n",
      " 3   children  1338 non-null   int64  \n",
      " 4   smoker    1338 non-null   object \n",
      " 5   region    1338 non-null   object \n",
      " 6   charges   1338 non-null   float64\n",
      "dtypes: float64(2), int64(2), object(3)\n",
      "memory usage: 73.3+ KB\n",
      "None\n"
     ]
    }
   ],
   "source": [
    "print(print(mc.shape))\n",
    "print(mc.info())"
   ]
  },
  {
   "cell_type": "code",
   "execution_count": 4,
   "metadata": {},
   "outputs": [],
   "source": [
    "numerical_vars = ['age', 'bmi', 'children']\n",
    "categorical_vars = ['sex', 'smoker', 'region']"
   ]
  },
  {
   "cell_type": "code",
   "execution_count": 5,
   "metadata": {},
   "outputs": [
    {
     "data": {
      "text/html": [
       "<div>\n",
       "<style scoped>\n",
       "    .dataframe tbody tr th:only-of-type {\n",
       "        vertical-align: middle;\n",
       "    }\n",
       "\n",
       "    .dataframe tbody tr th {\n",
       "        vertical-align: top;\n",
       "    }\n",
       "\n",
       "    .dataframe thead th {\n",
       "        text-align: right;\n",
       "    }\n",
       "</style>\n",
       "<table border=\"1\" class=\"dataframe\">\n",
       "  <thead>\n",
       "    <tr style=\"text-align: right;\">\n",
       "      <th></th>\n",
       "      <th>age</th>\n",
       "      <th>sex</th>\n",
       "      <th>bmi</th>\n",
       "      <th>children</th>\n",
       "      <th>smoker</th>\n",
       "      <th>region</th>\n",
       "      <th>charges</th>\n",
       "    </tr>\n",
       "  </thead>\n",
       "  <tbody>\n",
       "    <tr>\n",
       "      <th>0</th>\n",
       "      <td>19</td>\n",
       "      <td>female</td>\n",
       "      <td>27.900</td>\n",
       "      <td>0</td>\n",
       "      <td>yes</td>\n",
       "      <td>southwest</td>\n",
       "      <td>16884.92400</td>\n",
       "    </tr>\n",
       "    <tr>\n",
       "      <th>1</th>\n",
       "      <td>18</td>\n",
       "      <td>male</td>\n",
       "      <td>33.770</td>\n",
       "      <td>1</td>\n",
       "      <td>no</td>\n",
       "      <td>southeast</td>\n",
       "      <td>1725.55230</td>\n",
       "    </tr>\n",
       "    <tr>\n",
       "      <th>2</th>\n",
       "      <td>28</td>\n",
       "      <td>male</td>\n",
       "      <td>33.000</td>\n",
       "      <td>3</td>\n",
       "      <td>no</td>\n",
       "      <td>southeast</td>\n",
       "      <td>4449.46200</td>\n",
       "    </tr>\n",
       "    <tr>\n",
       "      <th>3</th>\n",
       "      <td>33</td>\n",
       "      <td>male</td>\n",
       "      <td>22.705</td>\n",
       "      <td>0</td>\n",
       "      <td>no</td>\n",
       "      <td>northwest</td>\n",
       "      <td>21984.47061</td>\n",
       "    </tr>\n",
       "    <tr>\n",
       "      <th>4</th>\n",
       "      <td>32</td>\n",
       "      <td>male</td>\n",
       "      <td>28.880</td>\n",
       "      <td>0</td>\n",
       "      <td>no</td>\n",
       "      <td>northwest</td>\n",
       "      <td>3866.85520</td>\n",
       "    </tr>\n",
       "  </tbody>\n",
       "</table>\n",
       "</div>"
      ],
      "text/plain": [
       "   age     sex     bmi  children smoker     region      charges\n",
       "0   19  female  27.900         0    yes  southwest  16884.92400\n",
       "1   18    male  33.770         1     no  southeast   1725.55230\n",
       "2   28    male  33.000         3     no  southeast   4449.46200\n",
       "3   33    male  22.705         0     no  northwest  21984.47061\n",
       "4   32    male  28.880         0     no  northwest   3866.85520"
      ]
     },
     "execution_count": 5,
     "metadata": {},
     "output_type": "execute_result"
    }
   ],
   "source": [
    "mc.head()"
   ]
  },
  {
   "cell_type": "code",
   "execution_count": 6,
   "metadata": {},
   "outputs": [
    {
     "name": "stdout",
     "output_type": "stream",
     "text": [
      "Missing Data: \n",
      "age         0\n",
      "sex         0\n",
      "bmi         0\n",
      "children    0\n",
      "smoker      0\n",
      "region      0\n",
      "charges     0\n",
      "dtype: int64\n"
     ]
    }
   ],
   "source": [
    "print(f\"Missing Data: \\n{mc.isnull().sum()}\")"
   ]
  },
  {
   "cell_type": "code",
   "execution_count": 7,
   "metadata": {},
   "outputs": [
    {
     "name": "stdout",
     "output_type": "stream",
     "text": [
      "               age          bmi     children       charges\n",
      "count  1338.000000  1338.000000  1338.000000   1338.000000\n",
      "mean     39.207025    30.663397     1.094918  13270.422265\n",
      "std      14.049960     6.098187     1.205493  12110.011237\n",
      "min      18.000000    15.960000     0.000000   1121.873900\n",
      "25%      27.000000    26.296250     0.000000   4740.287150\n",
      "50%      39.000000    30.400000     1.000000   9382.033000\n",
      "75%      51.000000    34.693750     2.000000  16639.912515\n",
      "max      64.000000    53.130000     5.000000  63770.428010\n"
     ]
    }
   ],
   "source": [
    "print(mc.describe())"
   ]
  },
  {
   "cell_type": "code",
   "execution_count": 8,
   "metadata": {},
   "outputs": [
    {
     "name": "stdout",
     "output_type": "stream",
     "text": [
      "male      676\n",
      "female    662\n",
      "Name: sex, dtype: int64 \n",
      "\n",
      "no     1064\n",
      "yes     274\n",
      "Name: smoker, dtype: int64 \n",
      "\n",
      "southeast    364\n",
      "southwest    325\n",
      "northwest    325\n",
      "northeast    324\n",
      "Name: region, dtype: int64 \n",
      "\n"
     ]
    }
   ],
   "source": [
    "for var in categorical_vars:\n",
    "    print(mc[var].value_counts(), '\\n')"
   ]
  },
  {
   "cell_type": "markdown",
   "metadata": {},
   "source": [
    "All numerical variables have reasonable ranges, with no obvious data problems. The mean age is around 40 years old, with an average of one child per person and average medical charges of roughly \\$13,000. Average BMI is fairly high at 30, and the middle 50\\% of the data are also all overweight. Categorical variables are fairly well-balanced, with the exception of smoker status. The data set includes predominately non-smokers. This fact and the largely overweight status of the sample will be important factors to consider in our later interpretations."
   ]
  },
  {
   "cell_type": "markdown",
   "metadata": {},
   "source": [
    "## Inspect relationships of predictors to outcome variable"
   ]
  },
  {
   "cell_type": "code",
   "execution_count": 9,
   "metadata": {},
   "outputs": [
    {
     "name": "stdout",
     "output_type": "stream",
     "text": [
      "children    0.067998\n",
      "bmi         0.198341\n",
      "age         0.299008\n",
      "charges     1.000000\n",
      "Name: charges, dtype: float64\n"
     ]
    },
    {
     "data": {
      "image/png": "[encoded data removed]",
      "text/plain": [
       "<Figure size 432x288 with 2 Axes>"
      ]
     },
     "metadata": {
      "needs_background": "light"
     },
     "output_type": "display_data"
    }
   ],
   "source": [
    "mc_corr = mc.corr()\n",
    "sns.heatmap(mc_corr[['charges']])\n",
    "print(mc_corr['charges'].sort_values())"
   ]
  },
  {
   "cell_type": "code",
   "execution_count": 10,
   "metadata": {},
   "outputs": [
    {
     "name": "stdout",
     "output_type": "stream",
     "text": [
      "               age       bmi  children   charges\n",
      "age       1.000000  0.109272  0.042469  0.299008\n",
      "bmi       0.109272  1.000000  0.012759  0.198341\n",
      "children  0.042469  0.012759  1.000000  0.067998\n",
      "charges   0.299008  0.198341  0.067998  1.000000\n"
     ]
    }
   ],
   "source": [
    "print(mc_corr)"
   ]
  },
  {
   "cell_type": "code",
   "execution_count": 11,
   "metadata": {},
   "outputs": [
    {
     "data": {
      "image/png": "[encoded data removed]",
      "text/plain": [
       "<Figure size 432x288 with 1 Axes>"
      ]
     },
     "metadata": {
      "needs_background": "light"
     },
     "output_type": "display_data"
    },
    {
     "data": {
      "image/png": "[encoded data removed]",
      "text/plain": [
       "<Figure size 432x288 with 1 Axes>"
      ]
     },
     "metadata": {
      "needs_background": "light"
     },
     "output_type": "display_data"
    },
    {
     "data": {
      "image/png": "[encoded data removed]",
      "text/plain": [
       "<Figure size 432x288 with 1 Axes>"
      ]
     },
     "metadata": {
      "needs_background": "light"
     },
     "output_type": "display_data"
    },
    {
     "data": {
      "image/png": "[encoded data removed]",
      "text/plain": [
       "<Figure size 432x288 with 1 Axes>"
      ]
     },
     "metadata": {
      "needs_background": "light"
     },
     "output_type": "display_data"
    },
    {
     "data": {
      "image/png": "[encoded data removed]",
      "text/plain": [
       "<Figure size 432x288 with 1 Axes>"
      ]
     },
     "metadata": {
      "needs_background": "light"
     },
     "output_type": "display_data"
    },
    {
     "data": {
      "image/png": "[encoded data removed]",
      "text/plain": [
       "<Figure size 432x288 with 1 Axes>"
      ]
     },
     "metadata": {
      "needs_background": "light"
     },
     "output_type": "display_data"
    }
   ],
   "source": [
    "for var in numerical_vars:\n",
    "    mc.plot.scatter(y='charges', x=var)\n",
    "    # Fit linear regression via least squares with numpy.polyfit\n",
    "    # It returns an slope (b) and intercept (a)\n",
    "    b, a = np.polyfit(mc[var], mc['charges'], deg=1)\n",
    "    # create number sequence along which to plot\n",
    "    xseq = np.linspace(mc[var].min(), mc[var].max(), num=100)\n",
    "    # Plot regression line\n",
    "    plt.plot(xseq, a + b * xseq, color=\"red\", lw=2.5);\n",
    "    plt.show()\n",
    "    \n",
    "    # plot histogram\n",
    "    mc[[var]].plot.hist()\n",
    "    plt.show()"
   ]
  },
  {
   "cell_type": "code",
   "execution_count": 12,
   "metadata": {},
   "outputs": [
    {
     "name": "stdout",
     "output_type": "stream",
     "text": [
      "sex\n",
      "female    12569.578844\n",
      "male      13956.751178\n",
      "Name: charges, dtype: float64 \n",
      "\n"
     ]
    },
    {
     "data": {
      "image/png": "[encoded data removed]",
      "text/plain": [
       "<Figure size 432x288 with 1 Axes>"
      ]
     },
     "metadata": {
      "needs_background": "light"
     },
     "output_type": "display_data"
    },
    {
     "name": "stdout",
     "output_type": "stream",
     "text": [
      "smoker\n",
      "no      8434.268298\n",
      "yes    32050.231832\n",
      "Name: charges, dtype: float64 \n",
      "\n"
     ]
    },
    {
     "data": {
      "image/png": "[encoded data removed]",
      "text/plain": [
       "<Figure size 432x288 with 1 Axes>"
      ]
     },
     "metadata": {
      "needs_background": "light"
     },
     "output_type": "display_data"
    },
    {
     "name": "stdout",
     "output_type": "stream",
     "text": [
      "region\n",
      "northeast    13406.384516\n",
      "northwest    12417.575374\n",
      "southeast    14735.411438\n",
      "southwest    12346.937377\n",
      "Name: charges, dtype: float64 \n",
      "\n"
     ]
    },
    {
     "data": {
      "image/png": "[encoded data removed]",
      "text/plain": [
       "<Figure size 432x288 with 1 Axes>"
      ]
     },
     "metadata": {
      "needs_background": "light"
     },
     "output_type": "display_data"
    }
   ],
   "source": [
    "for var in categorical_vars:\n",
    "    print(mc.groupby(var)['charges'].agg('mean', 'std'), '\\n')\n",
    "    mc.boxplot(column='charges', by=var)\n",
    "    plt.show()"
   ]
  },
  {
   "cell_type": "code",
   "execution_count": 13,
   "metadata": {},
   "outputs": [
    {
     "data": {
      "image/png": "[encoded data removed]",
      "text/plain": [
       "<Figure size 432x288 with 1 Axes>"
      ]
     },
     "metadata": {
      "needs_background": "light"
     },
     "output_type": "display_data"
    }
   ],
   "source": [
    "mc[['charges']].plot.hist()\n",
    "plt.show()"
   ]
  },
  {
   "cell_type": "code",
   "execution_count": 14,
   "metadata": {},
   "outputs": [
    {
     "data": {
      "image/png": "[encoded data removed]",
      "text/plain": [
       "<Figure size 432x288 with 1 Axes>"
      ]
     },
     "metadata": {
      "needs_background": "light"
     },
     "output_type": "display_data"
    },
    {
     "name": "stdout",
     "output_type": "stream",
     "text": [
      "Boxcox lambda: 0.043649053770664956\n"
     ]
    }
   ],
   "source": [
    "mc['charges_boxcox'] = boxcox(mc['charges'])[0]\n",
    "mc['charges_boxcox'].plot.hist()\n",
    "plt.show()\n",
    "boxcox_lambda_charges = boxcox(mc['charges'])[1]\n",
    "print(f\"Boxcox lambda: {boxcox_lambda_charges}\")"
   ]
  },
  {
   "cell_type": "markdown",
   "metadata": {},
   "source": [
    "Of numerical variables, age has a moderate correlation (~.3) and BMI a small correlation with the total medical charges. Inspecting the scatterplots, the age relationship with charges seems legitimate, although at any given age, there appear to be three categories of charges one could receive. The correlation of charges with BMI appears to be spurious, based on the increase in variance of charges with increasing BMI. Past 30 BMI, there appear to be two categories of charges that one might have. Relationships between categorical varibles and charges are less clear for sex and region and seem to be predominately affected by outliers. However, there appears to be a strong relationship between smoker status and charges, with smokers having much higher charges. \n",
    "\n",
    "Thus, the most important variables for inclusion in our model, in order of apparent importance, are: `smoker`, `age`, `bmi`. If we were to include other variables, their order of importance appears to be: `region`, `sex`, `children`. We will begin by checking how each variable improves R^2 and RMSE. Then, we will check R^2 improvement on a validation set for variables whose individual R^2 contribution is > .01. Finally, we'll create a combined model with those variables whose individual R^2 contribution is > .01 in the validation set and check its performance on the test set.\n",
    "\n",
    "One final notable feature of the data set is that our outcome variable is highly positively skewed, meaning that we have far less data regarding higher charges. Performing a boxcox transformation normalizes the variable well, so it may be worth inspecting the final model with this variable as well."
   ]
  },
  {
   "cell_type": "markdown",
   "metadata": {},
   "source": [
    "## Create data subsets for modeling"
   ]
  },
  {
   "cell_type": "code",
   "execution_count": 15,
   "metadata": {},
   "outputs": [],
   "source": [
    "mc_dum = pd.get_dummies(data=mc, columns=categorical_vars, drop_first=True)"
   ]
  },
  {
   "cell_type": "code",
   "execution_count": 16,
   "metadata": {},
   "outputs": [],
   "source": [
    "X = mc_dum.copy().drop(columns='charges')\n",
    "y = mc_dum['charges']"
   ]
  },
  {
   "cell_type": "code",
   "execution_count": 17,
   "metadata": {},
   "outputs": [],
   "source": [
    "_scaler = StandardScaler()\n",
    "_scaler.fit(X)\n",
    "X_scaled = _scaler.transform(X)"
   ]
  },
  {
   "cell_type": "code",
   "execution_count": 18,
   "metadata": {},
   "outputs": [],
   "source": [
    "X_train, X_val, y_train, y_val = train_test_split(X, y, test_size=0.2, random_state=444)\n",
    "X_train, X_test, y_train, y_test = train_test_split(X_train, y_train, test_size=0.2*X.shape[0]/X_train.shape[0], random_state=444) # note test_size is modified so that it's 20% of X, not of X_train"
   ]
  },
  {
   "cell_type": "markdown",
   "metadata": {},
   "source": [
    "## Modeling\n",
    "\n",
    "### Individual factor models\n",
    "\n",
    "We'll compare the R^2 of each factor to a model with the intercept only."
   ]
  },
  {
   "cell_type": "code",
   "execution_count": 19,
   "metadata": {},
   "outputs": [],
   "source": [
    "one_factor_l = {'vars': ['intercept only', 'smoker', 'age', 'bmi', 'region', 'sex', 'children'], \n",
    "               'train_mse': [],\n",
    "               'train_rmse': [],\n",
    "               'train_R2': []}\n",
    "loop_keys = ['train_mse', 'train_rmse', 'train_R2']"
   ]
  },
  {
   "cell_type": "markdown",
   "metadata": {},
   "source": [
    "#### Intercept only model"
   ]
  },
  {
   "cell_type": "code",
   "execution_count": 20,
   "metadata": {},
   "outputs": [
    {
     "name": "stdout",
     "output_type": "stream",
     "text": [
      "Intercept only model intercept: 12811.644668927682\n",
      "Coefficients: [0.]\n"
     ]
    }
   ],
   "source": [
    "X_ones = pd.DataFrame({'int': [1]*len(y_train)})\n",
    "\n",
    "int_only_m = LinearRegression()\n",
    "int_only_m.fit(X_ones, y_train)\n",
    "print(f\"Intercept only model intercept: {int_only_m.intercept_}\\nCoefficients: {int_only_m.coef_}\") # weird that intercept doesn't match mean in 'describe': 13270.42\n",
    "train_predictions = int_only_m.predict(X_ones)\n",
    "train_mse = mean_squared_error(y_train, train_predictions)\n",
    "train_rmse = mean_squared_error(y_train, train_predictions, squared=False)\n",
    "train_R2 = r2_score(y_train, train_predictions)\n",
    "vals = [train_mse, train_rmse, train_R2]\n",
    "\n",
    "for key, val in zip(loop_keys, vals):\n",
    "    one_factor_l[key].append(val)"
   ]
  },
  {
   "cell_type": "markdown",
   "metadata": {},
   "source": [
    "#### Other models"
   ]
  },
  {
   "cell_type": "code",
   "execution_count": 21,
   "metadata": {},
   "outputs": [],
   "source": [
    "for col in one_factor_l['vars'][1:]:\n",
    "    curr_cols = X_train.columns[X_train.columns.str.contains(col)].values.tolist()\n",
    "    X_train_subset = X_train[curr_cols]\n",
    "    \n",
    "    m = LinearRegression()\n",
    "    m.fit(X_train_subset, y_train)\n",
    "    train_predictions = m.predict(X_train_subset)\n",
    "    train_mse = mean_squared_error(y_train, train_predictions)\n",
    "    train_rmse = mean_squared_error(y_train, train_predictions, squared=False)\n",
    "    train_R2 = r2_score(y_train, train_predictions)\n",
    "    vals = [train_mse, train_rmse, train_R2]\n",
    "\n",
    "    for key, val in zip(loop_keys, vals):\n",
    "        one_factor_l[key].append(val)"
   ]
  },
  {
   "cell_type": "code",
   "execution_count": 22,
   "metadata": {},
   "outputs": [
    {
     "data": {
      "text/html": [
       "<div>\n",
       "<style scoped>\n",
       "    .dataframe tbody tr th:only-of-type {\n",
       "        vertical-align: middle;\n",
       "    }\n",
       "\n",
       "    .dataframe tbody tr th {\n",
       "        vertical-align: top;\n",
       "    }\n",
       "\n",
       "    .dataframe thead th {\n",
       "        text-align: right;\n",
       "    }\n",
       "</style>\n",
       "<table border=\"1\" class=\"dataframe\">\n",
       "  <thead>\n",
       "    <tr style=\"text-align: right;\">\n",
       "      <th></th>\n",
       "      <th>vars</th>\n",
       "      <th>train_mse</th>\n",
       "      <th>train_rmse</th>\n",
       "      <th>train_R2</th>\n",
       "    </tr>\n",
       "  </thead>\n",
       "  <tbody>\n",
       "    <tr>\n",
       "      <th>0</th>\n",
       "      <td>intercept only</td>\n",
       "      <td>1.407364e+08</td>\n",
       "      <td>11863.236009</td>\n",
       "      <td>0.000000</td>\n",
       "    </tr>\n",
       "    <tr>\n",
       "      <th>5</th>\n",
       "      <td>sex</td>\n",
       "      <td>1.395385e+08</td>\n",
       "      <td>11812.643520</td>\n",
       "      <td>0.008511</td>\n",
       "    </tr>\n",
       "    <tr>\n",
       "      <th>4</th>\n",
       "      <td>region</td>\n",
       "      <td>1.394239e+08</td>\n",
       "      <td>11807.791227</td>\n",
       "      <td>0.009325</td>\n",
       "    </tr>\n",
       "    <tr>\n",
       "      <th>6</th>\n",
       "      <td>children</td>\n",
       "      <td>1.391919e+08</td>\n",
       "      <td>11797.963000</td>\n",
       "      <td>0.010974</td>\n",
       "    </tr>\n",
       "    <tr>\n",
       "      <th>3</th>\n",
       "      <td>bmi</td>\n",
       "      <td>1.330845e+08</td>\n",
       "      <td>11536.225432</td>\n",
       "      <td>0.054370</td>\n",
       "    </tr>\n",
       "    <tr>\n",
       "      <th>2</th>\n",
       "      <td>age</td>\n",
       "      <td>1.276970e+08</td>\n",
       "      <td>11300.311394</td>\n",
       "      <td>0.092651</td>\n",
       "    </tr>\n",
       "    <tr>\n",
       "      <th>1</th>\n",
       "      <td>smoker</td>\n",
       "      <td>5.506235e+07</td>\n",
       "      <td>7420.400660</td>\n",
       "      <td>0.608755</td>\n",
       "    </tr>\n",
       "  </tbody>\n",
       "</table>\n",
       "</div>"
      ],
      "text/plain": [
       "             vars     train_mse    train_rmse  train_R2\n",
       "0  intercept only  1.407364e+08  11863.236009  0.000000\n",
       "5             sex  1.395385e+08  11812.643520  0.008511\n",
       "4          region  1.394239e+08  11807.791227  0.009325\n",
       "6        children  1.391919e+08  11797.963000  0.010974\n",
       "3             bmi  1.330845e+08  11536.225432  0.054370\n",
       "2             age  1.276970e+08  11300.311394  0.092651\n",
       "1          smoker  5.506235e+07   7420.400660  0.608755"
      ]
     },
     "execution_count": 22,
     "metadata": {},
     "output_type": "execute_result"
    }
   ],
   "source": [
    "one_factor_df = pd.DataFrame(one_factor_l)\n",
    "one_factor_df.sort_values('train_R2')"
   ]
  },
  {
   "cell_type": "markdown",
   "metadata": {},
   "source": [
    "These models show that `smoker` is an extremely good predictor, `age` and `bmi` reasonable predictors, `children` a passable predictor, and the others not particularly useful predictors. The R^2 seen here is the R^2 we can expect our validation and test data models to have."
   ]
  },
  {
   "cell_type": "markdown",
   "metadata": {},
   "source": [
    "### Models using validation data set"
   ]
  },
  {
   "cell_type": "code",
   "execution_count": 23,
   "metadata": {},
   "outputs": [],
   "source": [
    "one_factor_val_l = {'vars': ['smoker', 'age', 'bmi', 'region', 'sex', 'children'], \n",
    "               'val_mse': [],\n",
    "               'val_rmse': [],\n",
    "               'val_R2': []}\n",
    "loop_keys = ['val_mse', 'val_rmse', 'val_R2']"
   ]
  },
  {
   "cell_type": "code",
   "execution_count": 24,
   "metadata": {},
   "outputs": [],
   "source": [
    "for col in one_factor_val_l['vars']:\n",
    "    curr_cols = X_val.columns[X_val.columns.str.contains(col)].values.tolist()\n",
    "    X_train_subset = X_train[curr_cols]\n",
    "    X_val_subset = X_val[curr_cols]\n",
    "    \n",
    "    m = LinearRegression()\n",
    "    m.fit(X_train_subset, y_train)\n",
    "    val_predictions = m.predict(X_val_subset)\n",
    "    val_mse = mean_squared_error(y_val, val_predictions)\n",
    "    val_rmse = mean_squared_error(y_val, val_predictions, squared=False)\n",
    "    val_R2 = r2_score(y_val, val_predictions)\n",
    "    vals = [val_mse, val_rmse, val_R2]\n",
    "\n",
    "    for key, val in zip(loop_keys, vals):\n",
    "        one_factor_val_l[key].append(val)"
   ]
  },
  {
   "cell_type": "code",
   "execution_count": 25,
   "metadata": {},
   "outputs": [
    {
     "data": {
      "text/html": [
       "<div>\n",
       "<style scoped>\n",
       "    .dataframe tbody tr th:only-of-type {\n",
       "        vertical-align: middle;\n",
       "    }\n",
       "\n",
       "    .dataframe tbody tr th {\n",
       "        vertical-align: top;\n",
       "    }\n",
       "\n",
       "    .dataframe thead th {\n",
       "        text-align: right;\n",
       "    }\n",
       "</style>\n",
       "<table border=\"1\" class=\"dataframe\">\n",
       "  <thead>\n",
       "    <tr style=\"text-align: right;\">\n",
       "      <th></th>\n",
       "      <th>vars</th>\n",
       "      <th>val_mse</th>\n",
       "      <th>val_rmse</th>\n",
       "      <th>val_R2</th>\n",
       "    </tr>\n",
       "  </thead>\n",
       "  <tbody>\n",
       "    <tr>\n",
       "      <th>4</th>\n",
       "      <td>sex</td>\n",
       "      <td>1.918457e+08</td>\n",
       "      <td>13850.836934</td>\n",
       "      <td>-0.035442</td>\n",
       "    </tr>\n",
       "    <tr>\n",
       "      <th>3</th>\n",
       "      <td>region</td>\n",
       "      <td>1.907292e+08</td>\n",
       "      <td>13810.473069</td>\n",
       "      <td>-0.029416</td>\n",
       "    </tr>\n",
       "    <tr>\n",
       "      <th>5</th>\n",
       "      <td>children</td>\n",
       "      <td>1.906304e+08</td>\n",
       "      <td>13806.896318</td>\n",
       "      <td>-0.028883</td>\n",
       "    </tr>\n",
       "    <tr>\n",
       "      <th>2</th>\n",
       "      <td>bmi</td>\n",
       "      <td>1.839899e+08</td>\n",
       "      <td>13564.288170</td>\n",
       "      <td>0.006957</td>\n",
       "    </tr>\n",
       "    <tr>\n",
       "      <th>1</th>\n",
       "      <td>age</td>\n",
       "      <td>1.751885e+08</td>\n",
       "      <td>13235.879599</td>\n",
       "      <td>0.054461</td>\n",
       "    </tr>\n",
       "    <tr>\n",
       "      <th>0</th>\n",
       "      <td>smoker</td>\n",
       "      <td>5.726348e+07</td>\n",
       "      <td>7567.264001</td>\n",
       "      <td>0.690934</td>\n",
       "    </tr>\n",
       "  </tbody>\n",
       "</table>\n",
       "</div>"
      ],
      "text/plain": [
       "       vars       val_mse      val_rmse    val_R2\n",
       "4       sex  1.918457e+08  13850.836934 -0.035442\n",
       "3    region  1.907292e+08  13810.473069 -0.029416\n",
       "5  children  1.906304e+08  13806.896318 -0.028883\n",
       "2       bmi  1.839899e+08  13564.288170  0.006957\n",
       "1       age  1.751885e+08  13235.879599  0.054461\n",
       "0    smoker  5.726348e+07   7567.264001  0.690934"
      ]
     },
     "execution_count": 25,
     "metadata": {},
     "output_type": "execute_result"
    }
   ],
   "source": [
    "one_factor_val_df = pd.DataFrame(one_factor_val_l)\n",
    "one_factor_val_df.sort_values('val_R2')"
   ]
  },
  {
   "cell_type": "markdown",
   "metadata": {},
   "source": [
    "The `children` and `bmi` variables no longer makes the cut, but `smoker` and `age` do. Let's see how our model with these two variables fits the test data."
   ]
  },
  {
   "cell_type": "markdown",
   "metadata": {},
   "source": [
    "### Final Test Model"
   ]
  },
  {
   "cell_type": "code",
   "execution_count": 26,
   "metadata": {},
   "outputs": [],
   "source": [
    "curr_cols = X_val.columns[X_val.columns.str.contains('smoker|age')].values.tolist()\n",
    "X_train_subset = X_train[curr_cols]\n",
    "X_test_subset = X_test[curr_cols]\n",
    "\n",
    "m = LinearRegression()\n",
    "m.fit(X_train_subset, y_train)\n",
    "\n",
    "train_predictions = m.predict(X_train_subset)\n",
    "train_mse = mean_squared_error(y_train, train_predictions)\n",
    "train_rmse = mean_squared_error(y_train, train_predictions, squared=False)\n",
    "train_R2 = r2_score(y_train, train_predictions)\n",
    "\n",
    "test_predictions = m.predict(X_test_subset)\n",
    "test_mse = mean_squared_error(y_test, test_predictions)\n",
    "test_rmse = mean_squared_error(y_test, test_predictions, squared=False)\n",
    "test_R2 = r2_score(y_test, test_predictions)\n",
    "\n",
    "m_coef = m.coef_"
   ]
  },
  {
   "cell_type": "code",
   "execution_count": 27,
   "metadata": {},
   "outputs": [
    {
     "data": {
      "text/html": [
       "<div>\n",
       "<style scoped>\n",
       "    .dataframe tbody tr th:only-of-type {\n",
       "        vertical-align: middle;\n",
       "    }\n",
       "\n",
       "    .dataframe tbody tr th {\n",
       "        vertical-align: top;\n",
       "    }\n",
       "\n",
       "    .dataframe thead th {\n",
       "        text-align: right;\n",
       "    }\n",
       "</style>\n",
       "<table border=\"1\" class=\"dataframe\">\n",
       "  <thead>\n",
       "    <tr style=\"text-align: right;\">\n",
       "      <th></th>\n",
       "      <th>age</th>\n",
       "      <th>smoker_yes</th>\n",
       "    </tr>\n",
       "  </thead>\n",
       "  <tbody>\n",
       "    <tr>\n",
       "      <th>146</th>\n",
       "      <td>46</td>\n",
       "      <td>1</td>\n",
       "    </tr>\n",
       "    <tr>\n",
       "      <th>795</th>\n",
       "      <td>27</td>\n",
       "      <td>1</td>\n",
       "    </tr>\n",
       "    <tr>\n",
       "      <th>305</th>\n",
       "      <td>29</td>\n",
       "      <td>0</td>\n",
       "    </tr>\n",
       "    <tr>\n",
       "      <th>775</th>\n",
       "      <td>51</td>\n",
       "      <td>0</td>\n",
       "    </tr>\n",
       "    <tr>\n",
       "      <th>442</th>\n",
       "      <td>18</td>\n",
       "      <td>0</td>\n",
       "    </tr>\n",
       "  </tbody>\n",
       "</table>\n",
       "</div>"
      ],
      "text/plain": [
       "     age  smoker_yes\n",
       "146   46           1\n",
       "795   27           1\n",
       "305   29           0\n",
       "775   51           0\n",
       "442   18           0"
      ]
     },
     "execution_count": 27,
     "metadata": {},
     "output_type": "execute_result"
    }
   ],
   "source": [
    "X_train_subset.head()"
   ]
  },
  {
   "cell_type": "code",
   "execution_count": 28,
   "metadata": {},
   "outputs": [
    {
     "name": "stdout",
     "output_type": "stream",
     "text": [
      "MSE Train: 40906081.413352676\n",
      "MSE Test: 41907535.44558323\n",
      "\n",
      "RMSE Train: 6395.786223237349\n",
      "RMSE Test: 6473.60297250173\n",
      "\n",
      "R^2 Train: 0.7093424974707316\n",
      "R^2 Test: 0.6490734793805675\n",
      "\n",
      "Coefficients-- age: 270.0836388242424, smoker: 23596.706895859963\n"
     ]
    }
   ],
   "source": [
    "print(\n",
    "f\"MSE Train: {train_mse}\\n\\\n",
    "MSE Test: {test_mse}\\n\\n\\\n",
    "RMSE Train: {train_rmse}\\n\\\n",
    "RMSE Test: {test_rmse}\\n\\n\\\n",
    "R^2 Train: {train_R2}\\n\\\n",
    "R^2 Test: {test_R2}\\n\\n\\\n",
    "Coefficients-- age: {m_coef[0]}, smoker: {m_coef[1]}\"\n",
    ")"
   ]
  },
  {
   "cell_type": "markdown",
   "metadata": {},
   "source": [
    "### Examine model residuals"
   ]
  },
  {
   "cell_type": "code",
   "execution_count": 29,
   "metadata": {},
   "outputs": [
    {
     "name": "stdout",
     "output_type": "stream",
     "text": [
      "Training model residual mean: 9.588251500611107e-13\n",
      "Test model residual mean: -338.4215859802473\n"
     ]
    }
   ],
   "source": [
    "residuals = y_test-test_predictions\n",
    "print(f\"Training model residual mean: {np.mean(y_train-train_predictions)}\\n\\\n",
    "Test model residual mean: {np.mean(residuals)}\")"
   ]
  },
  {
   "cell_type": "markdown",
   "metadata": {},
   "source": [
    "Although our training model's residual mean is near zero, the mean of residuals in our test data is negative. This indicates a bias toward underestimating costs in our model's predictions for the test data."
   ]
  },
  {
   "cell_type": "code",
   "execution_count": 30,
   "metadata": {},
   "outputs": [
    {
     "data": {
      "image/png": "[encoded data removed]",
      "text/plain": [
       "<Figure size 576x576 with 1 Axes>"
      ]
     },
     "metadata": {
      "needs_background": "light"
     },
     "output_type": "display_data"
    }
   ],
   "source": [
    "plt.figure(figsize=[8,8])\n",
    "plt.scatter(test_predictions, residuals, color = 'red', alpha=0.4)\n",
    "plt.xlabel('test data predictions')\n",
    "plt.ylabel('test data residuals')\n",
    "plt.axhline(0, ls='--')\n",
    "plt.show()"
   ]
  },
  {
   "cell_type": "code",
   "execution_count": 31,
   "metadata": {},
   "outputs": [
    {
     "name": "stdout",
     "output_type": "stream",
     "text": [
      "Residual mean (pred < $20K): 3.7154011571045436\n",
      "Residual mean (pred > $20K): -1947.1933765622612\n"
     ]
    }
   ],
   "source": [
    "print(f\"Residual mean (pred < $20K): {np.mean(residuals[test_predictions<20000])}\\n\\\n",
    "Residual mean (pred > $20K): {np.mean(residuals[test_predictions>20000])}\")"
   ]
  },
  {
   "cell_type": "markdown",
   "metadata": {},
   "source": [
    "A plot of the predicted vs. residual values in the test data shows that predictions were generally good for lower charge values but worse for higher charge values. This result is consistent with the distribution of the charges, as there were far fewer high charges in the dataset than low charges. Looking closer at the residuals, the residual mean is actually very close to zero for predictions less than \\\\$20,000, but is negatively biased for predictions greater than \\$20,000."
   ]
  },
  {
   "cell_type": "markdown",
   "metadata": {},
   "source": [
    "### Final Test Model with boxcox charges"
   ]
  },
  {
   "cell_type": "code",
   "execution_count": 32,
   "metadata": {},
   "outputs": [],
   "source": [
    "X = mc_dum.copy().drop(columns=['charges', 'charges_boxcox'])\n",
    "y = mc_dum['charges_boxcox']"
   ]
  },
  {
   "cell_type": "code",
   "execution_count": 33,
   "metadata": {},
   "outputs": [],
   "source": [
    "_scaler = StandardScaler()\n",
    "_scaler.fit(X)\n",
    "X_scaled = _scaler.transform(X)"
   ]
  },
  {
   "cell_type": "code",
   "execution_count": 34,
   "metadata": {},
   "outputs": [],
   "source": [
    "X_train, X_val, y_train, y_val = train_test_split(X, y, test_size=0.2, random_state=444)\n",
    "X_train, X_test, y_train, y_test = train_test_split(X_train, y_train, test_size=0.2*X.shape[0]/X_train.shape[0], random_state=444) # note test_size is modified so that it's 20% of X, not of X_train"
   ]
  },
  {
   "cell_type": "code",
   "execution_count": 35,
   "metadata": {},
   "outputs": [],
   "source": [
    "curr_cols = X_val.columns[X_val.columns.str.contains('smoker|age')].values.tolist()\n",
    "X_train_subset = X_train[curr_cols]\n",
    "X_test_subset = X_test[curr_cols]\n",
    "\n",
    "m = LinearRegression()\n",
    "m.fit(X_train_subset, y_train)\n",
    "\n",
    "train_predictions = m.predict(X_train_subset)\n",
    "train_mse = mean_squared_error(y_train, train_predictions)\n",
    "train_rmse = mean_squared_error(y_train, train_predictions, squared=False)\n",
    "train_R2 = r2_score(y_train, train_predictions)\n",
    "\n",
    "test_predictions = m.predict(X_test_subset)\n",
    "test_mse = mean_squared_error(y_test, test_predictions)\n",
    "test_rmse = mean_squared_error(y_test, test_predictions, squared=False)\n",
    "test_R2 = r2_score(y_test, test_predictions)\n",
    "\n",
    "m_coef = m.coef_"
   ]
  },
  {
   "cell_type": "code",
   "execution_count": 36,
   "metadata": {},
   "outputs": [
    {
     "name": "stdout",
     "output_type": "stream",
     "text": [
      "MSE Train: 0.49294996661343315\n",
      "MSE Test: 0.4540192478184655\n",
      "\n",
      "RMSE Train: 0.7021039571270291\n",
      "RMSE Test: 0.6738095041022095\n",
      "\n",
      "R^2 Train: 0.7371617451428532\n",
      "R^2 Test: 0.6923433561427499\n",
      "\n",
      "Coefficients-- age: 0.05341852591913936, smoker: 2.3362744938732884\n"
     ]
    }
   ],
   "source": [
    "print(\n",
    "f\"MSE Train: {train_mse}\\n\\\n",
    "MSE Test: {test_mse}\\n\\n\\\n",
    "RMSE Train: {train_rmse}\\n\\\n",
    "RMSE Test: {test_rmse}\\n\\n\\\n",
    "R^2 Train: {train_R2}\\n\\\n",
    "R^2 Test: {test_R2}\\n\\n\\\n",
    "Coefficients-- age: {m_coef[0]}, smoker: {m_coef[1]}\"\n",
    ")"
   ]
  },
  {
   "cell_type": "markdown",
   "metadata": {},
   "source": [
    "### Examine model residuals"
   ]
  },
  {
   "cell_type": "code",
   "execution_count": 37,
   "metadata": {},
   "outputs": [
    {
     "name": "stdout",
     "output_type": "stream",
     "text": [
      "Training model residual mean: 1.800720835950628e-15\n",
      "Test model residual mean: 0.021806550427503752\n"
     ]
    }
   ],
   "source": [
    "residuals = y_test-test_predictions\n",
    "print(f\"Training model residual mean: {np.mean(y_train-train_predictions)}\\n\\\n",
    "Test model residual mean: {np.mean(residuals)}\")"
   ]
  },
  {
   "cell_type": "markdown",
   "metadata": {},
   "source": [
    "This model is far less biased than the model with an untransformed charges variable."
   ]
  },
  {
   "cell_type": "code",
   "execution_count": 38,
   "metadata": {},
   "outputs": [
    {
     "data": {
      "image/png": "[encoded data removed]",
      "text/plain": [
       "<Figure size 576x576 with 1 Axes>"
      ]
     },
     "metadata": {
      "needs_background": "light"
     },
     "output_type": "display_data"
    }
   ],
   "source": [
    "plt.figure(figsize=[8,8])\n",
    "plt.scatter(test_predictions, residuals, color = 'red', alpha=0.4)\n",
    "plt.xlabel('test data predictions')\n",
    "plt.ylabel('test data residuals')\n",
    "plt.axhline(0, ls='--')\n",
    "plt.show()"
   ]
  },
  {
   "cell_type": "markdown",
   "metadata": {},
   "source": [
    "A plot of the predicted vs. residual values in the test data shows that predictions were much better on average for boxcox transformed charges than untransformed charges. However, The residuals show a clear negative quadratic trend, introducing a further element to correct in our model. If we were to revise the model further and interpret the boxcox coefficients, we would want to address this quadratic trend. Additionally, we could not simply invert the transformation on the coefficients, as they are linear only for the boxcox variable. We would want to use the model to predict a value for a given age and smoker status, and then invert the value with the inverse boxcox transformation. Alternatively, we could preemptively create a predicted line from the minimum to the maximum of our age range for smokers and non-smokers and inverse boxcox transform these predictions to graph out our expectations for future cases based on the model."
   ]
  },
  {
   "cell_type": "markdown",
   "metadata": {},
   "source": [
    "## Conclusions\n",
    "\n",
    "By inspecting the R^2 contribution of six variables, we were able to find two variables--smoker status and age--that created a reasonably good predictive model of medical costs in the United States, explaining 65% of the variance in medical costs in the test data. The model provides two main takeaways. First, controlling for age, being a smoker costs one roughly \\\\$23,600 more in medical bills than does being a non-smoker. Additionally, for each year in age, controlling for smoker status, one can expect to spend roughly \\$270 more on medical bills.\n",
    "\n",
    "Given that higher medical bills imply more medical care requirements, the interpretation of these results is simple: **hospitals in regions including older populations and, especially, populations with more smokers should be allocated more resources to care for patients.**\n",
    "\n",
    "Several caveats are important to keep in mind in these interpretations. First, the data set had far fewer smokers than non-smokers--only about 300 smokers compared to 1000 non-smokers. Because of this, the prediction for medical cost differences is less precise than it might be with more data from smokers. Second, The data set includes predominately overweight individuals. Therefore, the predictions from this model may not generalize to individuals with a healthier BMI. Third, most of the data included charges less than \\\\$20,000, which caused predictions greater than \\\\$20,000 to be negatively skewed. Thus, predictions from this model should be taken with an abundance of caution when the predicted cost is over \\$20,000.\n",
    "\n",
    "Redoing the best fit model with a normalized distribution of the charges variable improved the model. Variance explained rose by roughly 5\\%, residual mean decreased to near zero, and the spread of residuals improved. However, it also introduced further problems of interpretation and prediction--the coefficients are not as readily interpretable, and the residual plot showed that further revision of the model would be necessary. Based on the improvement of only 5\\% in variance explained, we have decided not to further revise the model and instead suggest implementation of the model with untransformed charges."
   ]
  },
  {
   "cell_type": "code",
   "execution_count": null,
   "metadata": {},
   "outputs": [],
   "source": []
  }
 ],
 "metadata": {
  "kernelspec": {
   "display_name": "Python 3",
   "language": "python",
   "name": "python3"
  },
  "language_info": {
   "codemirror_mode": {
    "name": "ipython",
    "version": 3
   },
   "file_extension": ".py",
   "mimetype": "text/x-python",
   "name": "python",
   "nbconvert_exporter": "python",
   "pygments_lexer": "ipython3",
   "version": "3.8.5"
  }
 },
 "nbformat": 4,
 "nbformat_minor": 4
}
